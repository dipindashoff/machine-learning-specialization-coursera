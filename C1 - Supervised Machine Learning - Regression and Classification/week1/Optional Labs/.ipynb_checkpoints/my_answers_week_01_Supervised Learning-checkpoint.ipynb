{
 "cells": [
  {
   "cell_type": "code",
   "execution_count": 18,
   "id": "d375711f",
   "metadata": {},
   "outputs": [],
   "source": [
    "import numpy as np\n",
    "import matplotlib.pyplot as plt"
   ]
  },
  {
   "cell_type": "markdown",
   "id": "2af6ed5f",
   "metadata": {},
   "source": [
    "# Calculate f(x)\n",
    "> How w & b influence f(x)"
   ]
  },
  {
   "cell_type": "code",
   "execution_count": 10,
   "id": "aee75a9b",
   "metadata": {},
   "outputs": [],
   "source": [
    "x = np.array([1.0, 2.0])\n",
    "y = np.array([300, 500])"
   ]
  },
  {
   "cell_type": "code",
   "execution_count": 11,
   "id": "77a04830",
   "metadata": {},
   "outputs": [
    {
     "name": "stdout",
     "output_type": "stream",
     "text": [
      "1.0\n",
      "300\n"
     ]
    }
   ],
   "source": [
    "print(x[0])\n",
    "print(y[0])"
   ]
  },
  {
   "cell_type": "code",
   "execution_count": 12,
   "id": "98d9b1c6",
   "metadata": {},
   "outputs": [
    {
     "data": {
      "text/plain": [
       "2"
      ]
     },
     "execution_count": 12,
     "metadata": {},
     "output_type": "execute_result"
    }
   ],
   "source": [
    "m = len(x)\n",
    "m"
   ]
  },
  {
   "cell_type": "code",
   "execution_count": 13,
   "id": "b51a6e2c",
   "metadata": {},
   "outputs": [],
   "source": [
    "w = 100\n",
    "b = 50"
   ]
  },
  {
   "cell_type": "code",
   "execution_count": 14,
   "id": "c693fd5b",
   "metadata": {},
   "outputs": [],
   "source": [
    "f_x = np.zeros(m)"
   ]
  },
  {
   "cell_type": "code",
   "execution_count": 15,
   "id": "5765a6e2",
   "metadata": {},
   "outputs": [],
   "source": [
    "def calculate_f_x(x, w, b, m):\n",
    "    for i in range(m):\n",
    "        f_x[i] = w*x[i] + b\n",
    "    return f_x"
   ]
  },
  {
   "cell_type": "code",
   "execution_count": 16,
   "id": "b80f7944",
   "metadata": {},
   "outputs": [
    {
     "data": {
      "text/plain": [
       "array([150., 250.])"
      ]
     },
     "execution_count": 16,
     "metadata": {},
     "output_type": "execute_result"
    }
   ],
   "source": [
    "tmp_f_x = calculate_f_x(x, w, b, m)\n",
    "tmp_f_x"
   ]
  },
  {
   "cell_type": "code",
   "execution_count": 21,
   "id": "ce3e4be9",
   "metadata": {},
   "outputs": [
    {
     "data": {
      "image/png": "[encoded data removed]",
      "text/plain": [
       "<Figure size 432x288 with 1 Axes>"
      ]
     },
     "metadata": {
      "needs_background": "light"
     },
     "output_type": "display_data"
    }
   ],
   "source": [
    "# Actual data points\n",
    "plt.scatter(x, y, marker='x', c='r',label='Actual Values')\n",
    "# Prediction f(x)\n",
    "plt.plot(x, tmp_f_x, c='b',label='Our Prediction')\n",
    "plt.show()"
   ]
  },
  {
   "cell_type": "code",
   "execution_count": 22,
   "id": "b2efa310",
   "metadata": {},
   "outputs": [],
   "source": [
    "# Change w & b now to better fit the line\n",
    "w, b = 200, 100\n",
    "tmp_f_x_2 = calculate_f_x(x, w, b, m)"
   ]
  },
  {
   "cell_type": "code",
   "execution_count": 23,
   "id": "ac54f62c",
   "metadata": {},
   "outputs": [
    {
     "data": {
      "image/png": "[encoded data removed]",
      "text/plain": [
       "<Figure size 432x288 with 1 Axes>"
      ]
     },
     "metadata": {
      "needs_background": "light"
     },
     "output_type": "display_data"
    }
   ],
   "source": [
    "# Actual data points\n",
    "plt.scatter(x, y, marker='x', c='r',label='Actual Values')\n",
    "# Prediction f(x)\n",
    "plt.plot(x, tmp_f_x_2, c='b',label='Our Prediction')\n",
    "plt.show()"
   ]
  },
  {
   "cell_type": "code",
   "execution_count": 24,
   "id": "1d001bfb",
   "metadata": {},
   "outputs": [
    {
     "name": "stdout",
     "output_type": "stream",
     "text": [
      "340.0\n"
     ]
    }
   ],
   "source": [
    "# Prediction\n",
    "# if x(i) is 1.2 then what's its y-hat?\n",
    "# y_hat(i) = w * x(i) + b\n",
    "print(w*1.2+b)"
   ]
  },
  {
   "cell_type": "markdown",
   "id": "285476fe",
   "metadata": {},
   "source": [
    "# Calculate cost function J"
   ]
  },
  {
   "cell_type": "markdown",
   "id": "0bad1ee7",
   "metadata": {},
   "source": [
    "The equation for cost with one variable is:\n",
    "  $$J(w,b) = \\frac{1}{2m} \\sum\\limits_{i = 0}^{m-1} (f_{w,b}(x^{(i)}) - y^{(i)})^2 \\tag{1}$$ \n",
    " \n",
    "where \n",
    "  $$f_{w,b}(x^{(i)}) = wx^{(i)} + b \\tag{2}$$"
   ]
  },
  {
   "cell_type": "markdown",
   "id": "f7912d85",
   "metadata": {},
   "source": [
    "A house with 1000 square feet sold for 300,000USD and a house with 2000 square feet sold for 500,000USD."
   ]
  },
  {
   "cell_type": "code",
   "execution_count": 34,
   "id": "b1b5b65f",
   "metadata": {},
   "outputs": [
    {
     "name": "stdout",
     "output_type": "stream",
     "text": [
      "0.0\n"
     ]
    }
   ],
   "source": [
    "x = np.array([1.0, 2.0])           #(size in 1000 square feet)\n",
    "y = np.array([300.0, 500.0]) \n",
    "\n",
    "m = len(x)\n",
    "w, b = 200, 100\n",
    "def compute_cost(x, y, m, w, b):\n",
    "    # calc f_x for each x(i)\n",
    "    sum = 0\n",
    "    for i in range(m):\n",
    "        f_x_i = w*x[i] + b\n",
    "        sum = sum + (f_x_i - y[i])**2\n",
    "    return sum/(2*m)\n",
    "\n",
    "print(compute_cost(x, y, m, w, b))"
   ]
  },
  {
   "cell_type": "markdown",
   "id": "02e3754f",
   "metadata": {},
   "source": [
    "# Gradient Descent"
   ]
  },
  {
   "cell_type": "markdown",
   "id": "e78bc44f",
   "metadata": {},
   "source": [
    "*gradient descent* was described as:\n",
    "\n",
    "$$\\begin{align*} \\text{repeat}&\\text{ until convergence:} \\; \\lbrace \\newline\n",
    "\\;  w &= w -  \\alpha \\frac{\\partial J(w,b)}{\\partial w} \\tag{3}  \\; \\newline \n",
    " b &= b -  \\alpha \\frac{\\partial J(w,b)}{\\partial b}  \\newline \\rbrace\n",
    "\\end{align*}$$\n",
    "where, parameters $w$, $b$ are updated simultaneously.  \n",
    "The gradient is defined as:\n",
    "$$\n",
    "\\begin{align}\n",
    "\\frac{\\partial J(w,b)}{\\partial w}  &= \\frac{1}{m} \\sum\\limits_{i = 0}^{m-1} (f_{w,b}(x^{(i)}) - y^{(i)})x^{(i)} \\tag{4}\\\\\n",
    "  \\frac{\\partial J(w,b)}{\\partial b}  &= \\frac{1}{m} \\sum\\limits_{i = 0}^{m-1} (f_{w,b}(x^{(i)}) - y^{(i)}) \\tag{5}\\\\\n",
    "\\end{align}\n",
    "$$\n",
    "\n",
    "Here *simultaniously* means that you calculate the partial derivatives for all the parameters before updating any of the parameters."
   ]
  },
  {
   "cell_type": "code",
   "execution_count": 35,
   "id": "9655986f",
   "metadata": {},
   "outputs": [],
   "source": [
    "def compute_gradient(x, y, w, b):    \n",
    "    # Number of training examples\n",
    "    m = x.shape[0]    \n",
    "    dj_dw = 0\n",
    "    dj_db = 0\n",
    "    \n",
    "    for i in range(m):  \n",
    "        f_wb = w * x[i] + b \n",
    "        dj_dw_i = (f_wb - y[i]) * x[i] \n",
    "        dj_db_i = f_wb - y[i] \n",
    "        dj_db += dj_db_i\n",
    "        dj_dw += dj_dw_i \n",
    "    dj_dw = dj_dw / m \n",
    "    dj_db = dj_db / m \n",
    "        \n",
    "    return dj_dw, dj_db"
   ]
  },
  {
   "cell_type": "code",
   "execution_count": 39,
   "id": "56f3b139",
   "metadata": {},
   "outputs": [],
   "source": [
    "# \n",
    "# inputs: x_train ,y_train, w_init, b_init, tmp_alpha, iterations, compute_cost, compute_gradient\n",
    "def gradient_descent(x, y, w_in, b_in, alpha, num_iters, cost_function, compute_gradient): \n",
    "#     w = copy.deepcopy(w_in) # avoid modifying global w_in\n",
    "    b = b_in\n",
    "    w = w_in\n",
    "    \n",
    "    # repeat 'until convergence' but here we run this loop for a 'fixed' time say an arbitrary 50,000 times.\n",
    "    # Since this is a convex function (bowl shaped with only one global minimum), \n",
    "    # w remains unchanged (converges) at the point where the slope (or the derivative) equals 0.\n",
    "    for i in range(num_iters):\n",
    "        # Compute the gradient for each updated 'w' and 'b'\n",
    "        # Calculate the gradient and update the parameters using gradient_function\n",
    "        dj_dw, dj_db = compute_gradient(x, y, w , b)     \n",
    "\n",
    "        # Update Parameters using equation (3) above\n",
    "        b = b - alpha * dj_db                            \n",
    "        w = w - alpha * dj_dw                           \n",
    "    return w, b"
   ]
  },
  {
   "cell_type": "code",
   "execution_count": 41,
   "id": "4c2a61a0",
   "metadata": {},
   "outputs": [
    {
     "name": "stdout",
     "output_type": "stream",
     "text": [
      "(w,b) found by gradient descent: (200.0000,100.0000)\n"
     ]
    }
   ],
   "source": [
    "# initialize parameters\n",
    "w_init = 0\n",
    "b_init = 0\n",
    "# some gradient descent settings\n",
    "iterations = 50000\n",
    "tmp_alpha = 1.0e-2\n",
    "# run gradient descent\n",
    "w_final, b_final = gradient_descent(x ,y, w_init, b_init, tmp_alpha, \n",
    "                                                    iterations, compute_cost, compute_gradient)\n",
    "print(f\"(w,b) found by gradient descent: ({w_final:8.3f},{b_final:8.3f})\")"
   ]
  }
 ],
 "metadata": {
  "kernelspec": {
   "display_name": "Python 3 (ipykernel)",
   "language": "python",
   "name": "python3"
  },
  "language_info": {
   "codemirror_mode": {
    "name": "ipython",
    "version": 3
   },
   "file_extension": ".py",
   "mimetype": "text/x-python",
   "name": "python",
   "nbconvert_exporter": "python",
   "pygments_lexer": "ipython3",
   "version": "3.9.16"
  },
  "varInspector": {
   "cols": {
    "lenName": 16,
    "lenType": 16,
    "lenVar": 40
   },
   "kernels_config": {
    "python": {
     "delete_cmd_postfix": "",
     "delete_cmd_prefix": "del ",
     "library": "var_list.py",
     "varRefreshCmd": "print(var_dic_list())"
    },
    "r": {
     "delete_cmd_postfix": ") ",
     "delete_cmd_prefix": "rm(",
     "library": "var_list.r",
     "varRefreshCmd": "cat(var_dic_list()) "
    }
   },
   "types_to_exclude": [
    "module",
    "function",
    "builtin_function_or_method",
    "instance",
    "_Feature"
   ],
   "window_display": false
  }
 },
 "nbformat": 4,
 "nbformat_minor": 5
}
