{
 "cells": [
  {
   "cell_type": "code",
   "execution_count": 1,
   "id": "416e6ee9",
   "metadata": {},
   "outputs": [],
   "source": [
    "import numpy as np"
   ]
  },
  {
   "cell_type": "markdown",
   "id": "4a3294c9",
   "metadata": {},
   "source": [
    "## Initialization"
   ]
  },
  {
   "cell_type": "markdown",
   "id": "ecfc5215",
   "metadata": {},
   "source": [
    "Intialize a numpy array using custom integers"
   ]
  },
  {
   "cell_type": "code",
   "execution_count": 2,
   "id": "f8a3b62e",
   "metadata": {},
   "outputs": [
    {
     "data": {
      "text/plain": [
       "array([1, 2, 3])"
      ]
     },
     "execution_count": 2,
     "metadata": {},
     "output_type": "execute_result"
    }
   ],
   "source": [
    "a = np.array([1,2,3])\n",
    "a"
   ]
  },
  {
   "cell_type": "code",
   "execution_count": 3,
   "id": "7534d1f8",
   "metadata": {},
   "outputs": [
    {
     "data": {
      "text/plain": [
       "(3,)"
      ]
     },
     "execution_count": 3,
     "metadata": {},
     "output_type": "execute_result"
    }
   ],
   "source": [
    "a.shape # 1-D array with 3 elements"
   ]
  },
  {
   "cell_type": "markdown",
   "id": "13511dcd",
   "metadata": {},
   "source": [
    "Intialize a numpy array using zeroes"
   ]
  },
  {
   "cell_type": "code",
   "execution_count": 16,
   "id": "8c5e1161",
   "metadata": {},
   "outputs": [
    {
     "data": {
      "text/plain": [
       "array([0., 0., 0.])"
      ]
     },
     "execution_count": 16,
     "metadata": {},
     "output_type": "execute_result"
    }
   ],
   "source": [
    "a = np.zeros(3)\n",
    "a"
   ]
  },
  {
   "cell_type": "markdown",
   "id": "52c16a08",
   "metadata": {},
   "source": [
    "Intialize a numpy array using random numbers"
   ]
  },
  {
   "cell_type": "code",
   "execution_count": 18,
   "id": "ea238e5d",
   "metadata": {},
   "outputs": [
    {
     "data": {
      "text/plain": [
       "array([0.79903439, 0.68808781, 0.60346174, 0.76108166])"
      ]
     },
     "execution_count": 18,
     "metadata": {},
     "output_type": "execute_result"
    }
   ],
   "source": [
    "a = np.random.rand(4)\n",
    "a"
   ]
  },
  {
   "cell_type": "markdown",
   "id": "ab3ae080",
   "metadata": {},
   "source": [
    "Intialize a numpy array using range"
   ]
  },
  {
   "cell_type": "code",
   "execution_count": 20,
   "id": "8e9e1512",
   "metadata": {},
   "outputs": [
    {
     "data": {
      "text/plain": [
       "array([0, 1, 2, 3, 4])"
      ]
     },
     "execution_count": 20,
     "metadata": {},
     "output_type": "execute_result"
    }
   ],
   "source": [
    "a = np.arange(5)\n",
    "a"
   ]
  },
  {
   "cell_type": "markdown",
   "id": "7818ab11",
   "metadata": {},
   "source": [
    "#### 1-D array"
   ]
  },
  {
   "cell_type": "code",
   "execution_count": 53,
   "id": "432a1644",
   "metadata": {},
   "outputs": [
    {
     "name": "stdout",
     "output_type": "stream",
     "text": [
      "[2]\n"
     ]
    },
    {
     "data": {
      "text/plain": [
       "(1,)"
      ]
     },
     "execution_count": 53,
     "metadata": {},
     "output_type": "execute_result"
    }
   ],
   "source": [
    "w = np.array([2])\n",
    "print(w)\n",
    "w.shape # 1-D array with 1 element"
   ]
  },
  {
   "cell_type": "markdown",
   "id": "e634b701",
   "metadata": {},
   "source": [
    "#### 2-D array"
   ]
  },
  {
   "cell_type": "code",
   "execution_count": 54,
   "id": "af8e3fa9",
   "metadata": {},
   "outputs": [
    {
     "name": "stdout",
     "output_type": "stream",
     "text": [
      "[[1]\n",
      " [2]\n",
      " [3]\n",
      " [4]]\n"
     ]
    },
    {
     "data": {
      "text/plain": [
       "(4, 1)"
      ]
     },
     "execution_count": 54,
     "metadata": {},
     "output_type": "execute_result"
    }
   ],
   "source": [
    "X = np.array([[1],[2],[3],[4]])  # 2-D array with 4 rows & 1 column\n",
    "print(X)\n",
    "X.shape # (4, 1) --> # An array of 4 arrays each holding just 1 element inside."
   ]
  },
  {
   "cell_type": "code",
   "execution_count": 56,
   "id": "ad796adc",
   "metadata": {},
   "outputs": [
    {
     "name": "stdout",
     "output_type": "stream",
     "text": [
      "[[0. 0. 0. 0. 0.]\n",
      " [0. 0. 0. 0. 0.]]\n",
      "(2, 5)\n"
     ]
    }
   ],
   "source": [
    "a = np.zeros((2, 5))    \n",
    "print(a)\n",
    "print(a.shape)"
   ]
  },
  {
   "cell_type": "code",
   "execution_count": 62,
   "id": "2b3555ae",
   "metadata": {},
   "outputs": [
    {
     "data": {
      "text/plain": [
       "(4, 1)"
      ]
     },
     "execution_count": 62,
     "metadata": {},
     "output_type": "execute_result"
    }
   ],
   "source": [
    "X = np.array([[1],[2],[3],[4]])\n",
    "X.shape"
   ]
  },
  {
   "cell_type": "code",
   "execution_count": 63,
   "id": "f55803dc",
   "metadata": {},
   "outputs": [
    {
     "data": {
      "text/plain": [
       "(4,)"
      ]
     },
     "execution_count": 63,
     "metadata": {},
     "output_type": "execute_result"
    }
   ],
   "source": [
    "X = np.array([1,2,3,4])\n",
    "X.shape"
   ]
  },
  {
   "cell_type": "markdown",
   "id": "45da0ab1",
   "metadata": {},
   "source": [
    "# Indexing"
   ]
  },
  {
   "cell_type": "code",
   "execution_count": 22,
   "id": "586fb606",
   "metadata": {},
   "outputs": [
    {
     "name": "stdout",
     "output_type": "stream",
     "text": [
      "[0 1 2 3 4]\n",
      "0\n",
      "4\n"
     ]
    }
   ],
   "source": [
    "# Indexing an 1-D array\n",
    "a = np.arange(5)\n",
    "print(a)\n",
    "print(a[0]) # first element\n",
    "print(a[-1]) # last element"
   ]
  },
  {
   "cell_type": "code",
   "execution_count": 69,
   "id": "894b516d",
   "metadata": {},
   "outputs": [
    {
     "name": "stdout",
     "output_type": "stream",
     "text": [
      "[[1 2]\n",
      " [5 6]\n",
      " [3 4]\n",
      " [7 8]]\n",
      "[5 6]\n",
      "6\n",
      "7\n"
     ]
    }
   ],
   "source": [
    "# Indexing a 2-D array\n",
    "a = np.array([[1,2],[5,6],[3,4],[7,8]]) \n",
    "print(a)\n",
    "print(a[1])\n",
    "print(a[1,1])\n",
    "print(a[-1,0]) # last element's first item"
   ]
  },
  {
   "cell_type": "markdown",
   "id": "1455e406",
   "metadata": {},
   "source": [
    "## Slicing"
   ]
  },
  {
   "cell_type": "markdown",
   "id": "2b0dde39",
   "metadata": {},
   "source": [
    "Extract a subset of an array"
   ]
  },
  {
   "cell_type": "code",
   "execution_count": 29,
   "id": "122eed2d",
   "metadata": {},
   "outputs": [
    {
     "data": {
      "text/plain": [
       "array([0, 1, 2, 3, 4, 5, 6, 7, 8, 9])"
      ]
     },
     "execution_count": 29,
     "metadata": {},
     "output_type": "execute_result"
    }
   ],
   "source": [
    "a = np.arange(10)\n",
    "a"
   ]
  },
  {
   "cell_type": "code",
   "execution_count": 30,
   "id": "4b6932f0",
   "metadata": {},
   "outputs": [
    {
     "data": {
      "text/plain": [
       "array([2, 3, 4, 5, 6, 7, 8, 9])"
      ]
     },
     "execution_count": 30,
     "metadata": {},
     "output_type": "execute_result"
    }
   ],
   "source": [
    "a[2:10:1]"
   ]
  },
  {
   "cell_type": "code",
   "execution_count": 31,
   "id": "558dcd9e",
   "metadata": {},
   "outputs": [
    {
     "data": {
      "text/plain": [
       "array([2, 4, 6, 8])"
      ]
     },
     "execution_count": 31,
     "metadata": {},
     "output_type": "execute_result"
    }
   ],
   "source": [
    "a[2::2]"
   ]
  },
  {
   "cell_type": "markdown",
   "id": "6e24de5d",
   "metadata": {},
   "source": [
    "## Vector Operations"
   ]
  },
  {
   "cell_type": "code",
   "execution_count": 32,
   "id": "d33a11c5",
   "metadata": {},
   "outputs": [
    {
     "name": "stdout",
     "output_type": "stream",
     "text": [
      "[-1 -2 -3 -4]\n",
      "10\n",
      "2.5\n",
      "[ 1  4  9 16]\n"
     ]
    }
   ],
   "source": [
    "a = np.array([1,2,3,4])\n",
    "b = -a\n",
    "print(b)\n",
    "\n",
    "# sum all elements of a, returns a scalar\n",
    "b = np.sum(a) \n",
    "print(b) # scalar\n",
    "\n",
    "# mean\n",
    "b = np.mean(a)\n",
    "print(b) # scalar\n",
    "\n",
    "# square each item in 'a' array\n",
    "b = a**2\n",
    "print(b) # vector"
   ]
  },
  {
   "cell_type": "markdown",
   "id": "225b757a",
   "metadata": {},
   "source": [
    "## Vector Vector element-wise operations"
   ]
  },
  {
   "cell_type": "code",
   "execution_count": 35,
   "id": "050dd6fe",
   "metadata": {},
   "outputs": [],
   "source": [
    "a = np.array([1,2,3,4])\n",
    "b = np.array([2,4,6,8])"
   ]
  },
  {
   "cell_type": "code",
   "execution_count": 36,
   "id": "431e747c",
   "metadata": {},
   "outputs": [
    {
     "name": "stdout",
     "output_type": "stream",
     "text": [
      "[ 3  6  9 12]\n"
     ]
    }
   ],
   "source": [
    "c = a+b\n",
    "print(c)"
   ]
  },
  {
   "cell_type": "markdown",
   "id": "c6bf3775",
   "metadata": {},
   "source": [
    "## Scalar Vector element-wise operations"
   ]
  },
  {
   "cell_type": "code",
   "execution_count": 37,
   "id": "4a768a77",
   "metadata": {},
   "outputs": [
    {
     "data": {
      "text/plain": [
       "array([ 5, 10, 15, 20])"
      ]
     },
     "execution_count": 37,
     "metadata": {},
     "output_type": "execute_result"
    }
   ],
   "source": [
    "a = np.array([1,2,3,4])\n",
    "c = 5*a\n",
    "c"
   ]
  },
  {
   "cell_type": "markdown",
   "id": "f23e2fce",
   "metadata": {},
   "source": [
    "## Dot product using a *for* loop\n",
    "\n",
    "$$ \\mathbf{a} + \\mathbf{b} = \\sum_{i=0}^{n-1} a_i + b_i $$"
   ]
  },
  {
   "cell_type": "code",
   "execution_count": 50,
   "id": "68bddb4d",
   "metadata": {},
   "outputs": [
    {
     "name": "stdout",
     "output_type": "stream",
     "text": [
      "14\n"
     ]
    }
   ],
   "source": [
    "sum = 0\n",
    "for i in range(len(a)):\n",
    "    sum += a[i] * b[i]\n",
    "print(sum)"
   ]
  },
  {
   "cell_type": "markdown",
   "id": "0647c713",
   "metadata": {},
   "source": [
    "## Dot product using a Vector Vector Dot Product"
   ]
  },
  {
   "cell_type": "code",
   "execution_count": 51,
   "id": "8613e533",
   "metadata": {},
   "outputs": [
    {
     "name": "stdout",
     "output_type": "stream",
     "text": [
      "14\n",
      "()\n"
     ]
    }
   ],
   "source": [
    "a = np.array([1,2,3,4])\n",
    "b = np.array([1,1,1,2])\n",
    "\n",
    "c = np.dot(a, b)\n",
    "print(c)\n",
    "print(c.shape) # scalar value"
   ]
  },
  {
   "cell_type": "markdown",
   "id": "deba3c2d",
   "metadata": {},
   "source": [
    "## Try-Except block"
   ]
  },
  {
   "cell_type": "code",
   "execution_count": 61,
   "id": "cd991ea0",
   "metadata": {},
   "outputs": [
    {
     "name": "stdout",
     "output_type": "stream",
     "text": [
      "The error message you'll see is:\n",
      "shapes (4,) and (3,1) not aligned: 4 (dim 0) != 3 (dim 0)\n"
     ]
    }
   ],
   "source": [
    "# error if dimensions are not same\n",
    "a = np.array([1,2,3,4])\n",
    "b = np.array([[1],[1],[1]])\n",
    "try:\n",
    "    c = np.dot(a, b)\n",
    "    print(c)\n",
    "except Exception as e:\n",
    "    print(\"The error message you'll see is:\")\n",
    "    print(e)"
   ]
  },
  {
   "cell_type": "markdown",
   "id": "ee77fb05",
   "metadata": {},
   "source": [
    "## Convert 1-D array to 2-D Matrices using ***reshape*** function"
   ]
  },
  {
   "cell_type": "code",
   "execution_count": 71,
   "id": "f5f92402",
   "metadata": {},
   "outputs": [
    {
     "name": "stdout",
     "output_type": "stream",
     "text": [
      "[[0 1]\n",
      " [2 3]\n",
      " [4 5]]\n"
     ]
    }
   ],
   "source": [
    "a = np.arange(6).reshape(3, 2) # 3 denotes no. of rows and 2 represents no. of columns\n",
    "print(a)"
   ]
  },
  {
   "cell_type": "markdown",
   "id": "5f45b285",
   "metadata": {},
   "source": [
    "NOTE: In reshape, you can also use -1 to denote a to-be-inferred value."
   ]
  },
  {
   "cell_type": "code",
   "execution_count": 72,
   "id": "ebb05c5d",
   "metadata": {},
   "outputs": [
    {
     "data": {
      "text/plain": [
       "array([[0, 1],\n",
       "       [2, 3],\n",
       "       [4, 5]])"
      ]
     },
     "execution_count": 72,
     "metadata": {},
     "output_type": "execute_result"
    }
   ],
   "source": [
    "# The -1 argument tells the routine to compute the number of rows given the size of the array and the number of columns.\n",
    "np.reshape(a, (-1, 2))\n",
    "# -1 is an unspecified value inferred to be 3 here (for 6 elements, infer the no. of rows required when no. of columns = 2)"
   ]
  },
  {
   "cell_type": "markdown",
   "id": "fa2d975c",
   "metadata": {},
   "source": [
    "## Slicing a 2-D array"
   ]
  },
  {
   "cell_type": "code",
   "execution_count": 80,
   "id": "9a8dfb52",
   "metadata": {},
   "outputs": [
    {
     "name": "stdout",
     "output_type": "stream",
     "text": [
      "a = \n",
      "[[ 0  1  2  3  4  5  6  7  8  9]\n",
      " [10 11 12 13 14 15 16 17 18 19]]\n",
      "[0 1 2 3 4]\n",
      "[[ 0  1  2  3  4]\n",
      " [10 11 12 13 14]]\n",
      "[[ 0  1  2  3  4  5  6  7  8  9]\n",
      " [10 11 12 13 14 15 16 17 18 19]]\n",
      "[10 11 12 13 14 15 16 17 18 19]\n",
      "[10 11 12 13 14 15 16 17 18 19]\n"
     ]
    }
   ],
   "source": [
    "# vector 2-D slicing operations\n",
    "a = np.arange(20).reshape(-1, 10)\n",
    "print(f\"a = \\n{a}\")\n",
    "\n",
    "# access 5 consecutive elements (start:stop:step)\n",
    "print(a[0, :5])\n",
    "\n",
    "# access 5 consecutive elements (start:stop:step) in two rows\n",
    "print(a[:, :5])\n",
    "\n",
    "# access all elements\n",
    "print(a[:, :])\n",
    "\n",
    "# access all elements in one row (very common usage)\n",
    "print(a[1, :])\n",
    "\n",
    "# same as\n",
    "print(a[1])"
   ]
  },
  {
   "cell_type": "markdown",
   "id": "a42b2a28",
   "metadata": {},
   "source": [
    "# Multiple Linear Regression"
   ]
  },
  {
   "cell_type": "markdown",
   "id": "a5cb848b",
   "metadata": {},
   "source": [
    "| Size (sqft) | Number of Bedrooms  | Number of floors | Age of  Home | Price (1000s dollars)  |   \n",
    "| ----------------| ------------------- |----------------- |--------------|-------------- |  \n",
    "| 2104            | 5                   | 1                | 45           | 460           |  \n",
    "| 1416            | 3                   | 2                | 40           | 232           |  \n",
    "| 852             | 2                   | 1                | 35           | 178           | "
   ]
  },
  {
   "cell_type": "markdown",
   "id": "fa0c608b",
   "metadata": {},
   "source": [
    "$$\\mathbf{X} = \n",
    "\\begin{pmatrix}\n",
    " x^{(0)}_0 & x^{(0)}_1 & \\cdots & x^{(0)}_{n-1} \\\\ \n",
    " x^{(1)}_0 & x^{(1)}_1 & \\cdots & x^{(1)}_{n-1} \\\\\n",
    " \\cdots \\\\\n",
    " x^{(m-1)}_0 & x^{(m-1)}_1 & \\cdots & x^{(m-1)}_{n-1} \n",
    "\\end{pmatrix}\n",
    "$$"
   ]
  },
  {
   "cell_type": "code",
   "execution_count": 6,
   "id": "b9b84591",
   "metadata": {},
   "outputs": [],
   "source": [
    "X_train = np.array([[2104, 5, 1, 45], \n",
    "                    [1416, 3, 2, 40], \n",
    "                    [852, 2, 1, 35]])\n",
    "y_train = np.array([460, 232, 178])"
   ]
  },
  {
   "cell_type": "markdown",
   "id": "6eb8935c",
   "metadata": {},
   "source": [
    "$$\\mathbf{w} = \\begin{pmatrix}\n",
    "w_0 \\\\ \n",
    "w_1 \\\\\n",
    "\\cdots\\\\\n",
    "w_{n-1}\n",
    "\\end{pmatrix}\n",
    "$$\n",
    "And $b$ is a scalar parameter. "
   ]
  },
  {
   "cell_type": "markdown",
   "id": "84d28a93",
   "metadata": {},
   "source": [
    "## Gradient Descent for Multiple Linear Regression"
   ]
  },
  {
   "cell_type": "markdown",
   "id": "aa49389a",
   "metadata": {},
   "source": [
    "The model's prediction with multiple variables is given by the linear model:\n",
    "\n",
    "$$ f_{\\mathbf{w},b}(\\mathbf{x}) =  w_0x_0 + w_1x_1 +... + w_{n-1}x_{n-1} + b $$\n",
    "or in vector notation:\n",
    "$$ f_{\\mathbf{w},b}(\\mathbf{x}) = \\mathbf{w} \\cdot \\mathbf{x} + b $$ \n",
    "\n",
    "Gradient descent for multiple variables:\n",
    "\n",
    "$$\\begin{align*} \\text{repeat}&\\text{ until convergence:} \\; \\lbrace \\newline\\;\n",
    "& w_j = w_j -  \\alpha \\frac{\\partial J(\\mathbf{w},b)}{\\partial w_j}  \\; & \\text{for j = 0 to n-1}\\newline\n",
    "&b\\ \\ = b -  \\alpha \\frac{\\partial J(\\mathbf{w},b)}{\\partial b}  \\newline \\rbrace\n",
    "\\end{align*}$$\n",
    "\n",
    "where, n is the number of features, parameters $w_j$,  $b$, are updated simultaneously (until convergence) and where  \n",
    "\n",
    "$$\n",
    "\\begin{align}\n",
    "\\frac{\\partial J(\\mathbf{w},b)}{\\partial w_j}  &= \\frac{1}{m} \\sum\\limits_{i = 0}^{m-1} (f_{\\mathbf{w},b}(\\mathbf{x}^{(i)}) - y^{(i)})x_{j}^{(i)}  \\\\\n",
    "\\frac{\\partial J(\\mathbf{w},b)}{\\partial b}  &= \\frac{1}{m} \\sum\\limits_{i = 0}^{m-1} (f_{\\mathbf{w},b}(\\mathbf{x}^{(i)}) - y^{(i)})\n",
    "\\end{align}\n",
    "$$"
   ]
  },
  {
   "cell_type": "markdown",
   "id": "ad2f2e85",
   "metadata": {},
   "source": [
    "NOTE: The derivative dj\\dw is also a 1-D vector of same shape as the w vector."
   ]
  },
  {
   "cell_type": "code",
   "execution_count": 7,
   "id": "4602ea51",
   "metadata": {},
   "outputs": [],
   "source": [
    "def compute_gradient(X, y, w, b): \n",
    "    m,n = X.shape #(number of records, number of features)\n",
    "    dj_dw = np.zeros((n,)) # derivative is a 1-D vector\n",
    "    dj_db = 0.\n",
    "\n",
    "    # For each row of data x[i] and y[i],\n",
    "    for i in range(m):                             \n",
    "        err = (np.dot(X[i], w) + b) - y[i] \n",
    "        # For dj/dw,\n",
    "        # Now for each column,\n",
    "        for j in range(n):                         \n",
    "            dj_dw[j] = dj_dw[j] + err * X[i, j]    \n",
    "        \n",
    "        # For dj/db,\n",
    "        dj_db = dj_db + err                        \n",
    "    \n",
    "    dj_dw = dj_dw / m                                \n",
    "    dj_db = dj_db / m                                \n",
    "        \n",
    "    return dj_db, dj_dw"
   ]
  },
  {
   "cell_type": "code",
   "execution_count": 11,
   "id": "3195ddea",
   "metadata": {},
   "outputs": [],
   "source": [
    "def gradient_descent(X, y, w_in, b_in, compute_gradient, alpha, num_iters): \n",
    "    w = w_in  #avoid modifying global w within function\n",
    "    b = b_in\n",
    "    \n",
    "    for i in range(num_iters):\n",
    "\n",
    "        # Calculate the gradient and update the parameters\n",
    "        dj_db,dj_dw = compute_gradient(X, y, w, b)   ##None\n",
    "\n",
    "        # Update Parameters using w, b, alpha and gradient (VECTOR calculation)\n",
    "        w = w - alpha * dj_dw\n",
    "        b = b - alpha * dj_db\n",
    "        \n",
    "    return w, b"
   ]
  },
  {
   "cell_type": "code",
   "execution_count": 22,
   "id": "a5ffaf9e",
   "metadata": {},
   "outputs": [
    {
     "name": "stdout",
     "output_type": "stream",
     "text": [
      "w and b found by gradient descent: [ 0.23874923  0.14936437 -0.46194258 -1.43812571], -0.04\n",
      "prediction: 437.85, target value: 460\n",
      "prediction: 280.02, target value: 232\n",
      "prediction: 152.87, target value: 178\n"
     ]
    }
   ],
   "source": [
    "# initialize parameters\n",
    "b_init = 785.1811367994083\n",
    "w_init = np.array([0.39133535, 18.75376741, -53.36032453, -26.42131618])\n",
    "# return an array of 0s with the same shape and type as a given array\n",
    "initial_w = np.zeros_like(w_init)\n",
    "initial_b = 0.\n",
    "# some gradient descent settings\n",
    "iterations = 50000\n",
    "alpha = 5.0e-7\n",
    "# run gradient descent\n",
    "w_final, b_final = gradient_descent(X_train, y_train, initial_w, initial_b,\n",
    "                                            compute_gradient,\n",
    "                                            alpha, iterations)\n",
    "print(f\"w and b found by gradient descent: {w_final}, {b_final:0.2f}\")\n",
    "\n",
    "m,_ = X_train.shape\n",
    "for i in range(m):\n",
    "    print(f\"prediction: {np.dot(X_train[i], w_final) + b_final:0.2f}, target value: {y_train[i]}\")"
   ]
  },
  {
   "cell_type": "markdown",
   "id": "15ae9f72",
   "metadata": {},
   "source": []
  },
  {
   "cell_type": "code",
   "execution_count": null,
   "id": "831d9c48",
   "metadata": {},
   "outputs": [],
   "source": []
  },
  {
   "cell_type": "code",
   "execution_count": null,
   "id": "b239ee8f",
   "metadata": {},
   "outputs": [],
   "source": []
  }
 ],
 "metadata": {
  "kernelspec": {
   "display_name": "Python 3 (ipykernel)",
   "language": "python",
   "name": "python3"
  },
  "language_info": {
   "codemirror_mode": {
    "name": "ipython",
    "version": 3
   },
   "file_extension": ".py",
   "mimetype": "text/x-python",
   "name": "python",
   "nbconvert_exporter": "python",
   "pygments_lexer": "ipython3",
   "version": "3.11.3"
  },
  "varInspector": {
   "cols": {
    "lenName": 16,
    "lenType": 16,
    "lenVar": 40
   },
   "kernels_config": {
    "python": {
     "delete_cmd_postfix": "",
     "delete_cmd_prefix": "del ",
     "library": "var_list.py",
     "varRefreshCmd": "print(var_dic_list())"
    },
    "r": {
     "delete_cmd_postfix": ") ",
     "delete_cmd_prefix": "rm(",
     "library": "var_list.r",
     "varRefreshCmd": "cat(var_dic_list()) "
    }
   },
   "types_to_exclude": [
    "module",
    "function",
    "builtin_function_or_method",
    "instance",
    "_Feature"
   ],
   "window_display": false
  }
 },
 "nbformat": 4,
 "nbformat_minor": 5
}
